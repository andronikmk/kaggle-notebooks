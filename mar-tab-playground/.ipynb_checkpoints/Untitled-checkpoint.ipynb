{
 "cells": [
  {
   "cell_type": "code",
   "execution_count": 1,
   "metadata": {},
   "outputs": [],
   "source": [
    "# system stuff..\n",
    "from tqdm import tqdm\n",
    "import warnings\n",
    "warnings.filterwarnings('ignore')\n",
    "\n",
    "# data manipulation\n",
    "import numpy as np\n",
    "import pandas as pd\n",
    "\n",
    "# library for visulaization\n",
    "import matplotlib.pyplot as plt\n",
    "import seaborn as sns\n",
    "\n",
    "# sklearn\n",
    "from sklearn.preprocessing import LabelEncoder\n",
    "from sklearn.preprocessing import LabelEncoder\n",
    "from sklearn.metrics import roc_auc_score\n",
    "from sklearn.model_selection import train_test_split\n",
    "\n",
    "# models\n",
    "from sklearn.ensemble import RandomForestClassifier\n",
    "\n",
    "# stats\n",
    "from scipy import stats"
   ]
  },
  {
   "cell_type": "code",
   "execution_count": 2,
   "metadata": {},
   "outputs": [],
   "source": [
    "train = pd.read_csv(\"data/train.csv\",index_col='id')\n",
    "test = pd.read_csv(\"data/test.csv\",index_col='id')"
   ]
  },
  {
   "cell_type": "code",
   "execution_count": 3,
   "metadata": {},
   "outputs": [
    {
     "name": "stderr",
     "output_type": "stream",
     "text": [
      "100%|██████████| 31/31 [00:04<00:00,  7.71it/s]\n"
     ]
    }
   ],
   "source": [
    "# label encoder\n",
    "for c in tqdm(train.columns):\n",
    "    if train[c].dtype=='object': \n",
    "        lbl = LabelEncoder()\n",
    "        lbl.fit(list(train[c].values) + list(test[c].values))\n",
    "        train[c] = lbl.transform(train[c].values)\n",
    "        test[c] = lbl.transform(test[c].values)"
   ]
  },
  {
   "cell_type": "markdown",
   "metadata": {},
   "source": [
    "### Outler detection and removal"
   ]
  },
  {
   "cell_type": "code",
   "execution_count": 4,
   "metadata": {},
   "outputs": [],
   "source": [
    "# fig, (\n",
    "#       (ax0, ax1, ax2),\n",
    "#       (ax3, ax4, ax5),\n",
    "#       (ax6, ax7, ax8),\n",
    "#       (ax9, ax10, ax11),\n",
    "#       (ax12, ax13, ax14),\n",
    "#       (ax15, ax16, ax17),\n",
    "#       (ax18, ax19, ax20)\n",
    "#     ) = plt.subplots(nrows=7, ncols=3, sharey=True, figsize=(20, 10))\n",
    "\n",
    "# plt.subplots_adjust(hspace=1.3) \n",
    "\n",
    "# sns.boxplot(x=train.cat0, ax=ax0)\n",
    "# sns.boxplot(x=train.cat1, ax=ax1)\n",
    "# sns.boxplot(x=train.cat2, ax=ax2)\n",
    "# sns.boxplot(x=train.cat3, ax=ax3)\n",
    "# sns.boxplot(x=train.cat4, ax=ax4)\n",
    "# sns.boxplot(x=train.cat5, ax=ax5)\n",
    "# sns.boxplot(x=train.cat6, ax=ax6)\n",
    "# sns.boxplot(x=train.cat7, ax=ax7)\n",
    "# sns.boxplot(x=train.cat8, ax=ax8)\n",
    "# sns.boxplot(x=train.cat9, ax=ax9)\n",
    "# sns.boxplot(x=train.cat10, ax=ax10)\n",
    "# sns.boxplot(x=train.cat11, ax=ax11)\n",
    "# sns.boxplot(x=train.cat12, ax=ax12)\n",
    "# sns.boxplot(x=train.cat13, ax=ax13)\n",
    "# sns.boxplot(x=train.cat14, ax=ax14)\n",
    "# sns.boxplot(x=train.cat15, ax=ax15)\n",
    "# sns.boxplot(x=train.cat16, ax=ax16)\n",
    "# sns.boxplot(x=train.cat17, ax=ax17)\n",
    "# sns.boxplot(train.cat18,ax=ax18)\n",
    "\n",
    "# plt.show()"
   ]
  },
  {
   "cell_type": "code",
   "execution_count": 5,
   "metadata": {},
   "outputs": [],
   "source": [
    "for i in train.columns:\n",
    "    if i != 'target':\n",
    "        q1 = train[i].quantile(0.25)\n",
    "        q3 = train[i].quantile(0.75)\n",
    "        iqr = q3 - q1\n",
    "        train[i] = train[i][~((train[i]<(q1-1.5*iqr)) | (train[i]>(q3+1.5*iqr)))]"
   ]
  },
  {
   "cell_type": "code",
   "execution_count": 6,
   "metadata": {},
   "outputs": [],
   "source": [
    "# fig, (\n",
    "#       (ax0, ax1, ax2),\n",
    "#       (ax3, ax4, ax5),\n",
    "#       (ax6, ax7, ax8),\n",
    "#       (ax9, ax10, ax11),\n",
    "#       (ax12, ax13, ax14),\n",
    "#       (ax15, ax16, ax17),\n",
    "#       (ax18, ax19, ax20)\n",
    "#     ) = plt.subplots(nrows=7, ncols=3, sharey=True, figsize=(20, 10))\n",
    "\n",
    "# plt.subplots_adjust(hspace=1.3) \n",
    "\n",
    "# sns.boxplot(x=train.cat0, ax=ax0)\n",
    "# sns.boxplot(x=train.cat1, ax=ax1)\n",
    "# sns.boxplot(x=train.cat2, ax=ax2)\n",
    "# sns.boxplot(x=train.cat3, ax=ax3)\n",
    "# sns.boxplot(x=train.cat4, ax=ax4)\n",
    "# sns.boxplot(x=train.cat5, ax=ax5)\n",
    "# sns.boxplot(x=train.cat6, ax=ax6)\n",
    "# sns.boxplot(x=train.cat7, ax=ax7)\n",
    "# sns.boxplot(x=train.cat8, ax=ax8)\n",
    "# sns.boxplot(x=train.cat9, ax=ax9)\n",
    "# sns.boxplot(x=train.cat10, ax=ax10)\n",
    "# sns.boxplot(x=train.cat11, ax=ax11)\n",
    "# sns.boxplot(x=train.cat12, ax=ax12)\n",
    "# sns.boxplot(x=train.cat13, ax=ax13)\n",
    "# sns.boxplot(x=train.cat14, ax=ax14)\n",
    "# sns.boxplot(x=train.cat15, ax=ax15)\n",
    "# sns.boxplot(x=train.cat16, ax=ax16)\n",
    "# sns.boxplot(x=train.cat17, ax=ax17)\n",
    "# sns.boxplot(train.cat18,ax=ax18)\n",
    "\n",
    "# plt.show()"
   ]
  },
  {
   "cell_type": "code",
   "execution_count": 7,
   "metadata": {},
   "outputs": [
    {
     "data": {
      "text/plain": [
       "cat0          0\n",
       "cat1      19097\n",
       "cat2      41062\n",
       "cat3      16841\n",
       "cat4      35264\n",
       "cat5      61437\n",
       "cat6      23398\n",
       "cat7          0\n",
       "cat8          0\n",
       "cat9      26809\n",
       "cat10         0\n",
       "cat11     41068\n",
       "cat12     42861\n",
       "cat13      7288\n",
       "cat14         0\n",
       "cat15         0\n",
       "cat16         0\n",
       "cat17     52875\n",
       "cat18     44518\n",
       "cont0         0\n",
       "cont1         0\n",
       "cont2         0\n",
       "cont3         0\n",
       "cont4         0\n",
       "cont5         0\n",
       "cont6         0\n",
       "cont7         0\n",
       "cont8      1915\n",
       "cont9         9\n",
       "cont10    35952\n",
       "target        0\n",
       "dtype: int64"
      ]
     },
     "execution_count": 7,
     "metadata": {},
     "output_type": "execute_result"
    }
   ],
   "source": [
    "train.isnull().sum()"
   ]
  },
  {
   "cell_type": "code",
   "execution_count": 8,
   "metadata": {},
   "outputs": [],
   "source": [
    "for i in train.columns:\n",
    "    if train[i].isnull().sum() > 0:\n",
    "        train[i].fillna(train[i].mean(), inplace=True)"
   ]
  },
  {
   "cell_type": "code",
   "execution_count": 9,
   "metadata": {},
   "outputs": [],
   "source": [
    "for i in test.columns:\n",
    "    if i != 'target':\n",
    "        q1 = test[i].quantile(0.25)\n",
    "        q3 = test[i].quantile(0.75)\n",
    "        iqr = q3 - q1\n",
    "        test[i] = test[i][~((test[i]<(q1-1.5*iqr)) | (test[i]>(q3+1.5*iqr)))]"
   ]
  },
  {
   "cell_type": "code",
   "execution_count": 10,
   "metadata": {},
   "outputs": [
    {
     "data": {
      "text/plain": [
       "cat0          0\n",
       "cat1          0\n",
       "cat2      27540\n",
       "cat3      11418\n",
       "cat4      23533\n",
       "cat5      41084\n",
       "cat6      15622\n",
       "cat7          0\n",
       "cat8          0\n",
       "cat9      12596\n",
       "cat10         0\n",
       "cat11     27414\n",
       "cat12     28902\n",
       "cat13      4984\n",
       "cat14         0\n",
       "cat15         0\n",
       "cat16         0\n",
       "cat17     34934\n",
       "cat18     29932\n",
       "cont0         0\n",
       "cont1         0\n",
       "cont2         0\n",
       "cont3         0\n",
       "cont4         0\n",
       "cont5         0\n",
       "cont6         0\n",
       "cont7         0\n",
       "cont8      1292\n",
       "cont9         2\n",
       "cont10    24108\n",
       "dtype: int64"
      ]
     },
     "execution_count": 10,
     "metadata": {},
     "output_type": "execute_result"
    }
   ],
   "source": [
    "test.isnull().sum()"
   ]
  },
  {
   "cell_type": "code",
   "execution_count": 11,
   "metadata": {},
   "outputs": [],
   "source": [
    "for i in test.columns:\n",
    "    if test[i].isnull().sum() > 0:\n",
    "        test[i].fillna(test[i].mean(), inplace=True)"
   ]
  },
  {
   "cell_type": "code",
   "execution_count": 12,
   "metadata": {},
   "outputs": [],
   "source": [
    "def wrangle(X):\n",
    "\n",
    "    # simple difference\n",
    "    X['diff_1'] = abs(X['cat0'] - X['cat1'])\n",
    "    X['diff_2'] = abs(X['cat2'] - X['cat3'])\n",
    "    X['diff_3'] = abs(X['cat4'] - X['cat5'])\n",
    "    X['diff_4'] = abs(X['cat6'] - X['cat7'])\n",
    "    X['diff_5'] = abs(X['cat8'] - X['cat9'])\n",
    "    X['diff_6'] = abs(X['cat10'] - X['cat11'])\n",
    "    X['diff_7'] = abs(X['cat12'] - X['cat13'])\n",
    "    X['diff_8'] = abs(X['cat14'] - X['cat15'])\n",
    "    X['diff_8'] = abs(X['cat16'] - X['cat17'])\n",
    "    X['diff_8'] = abs(X['cat18'] - X['cat0']) \n",
    "    X['diff_9'] = abs(X['cont0'] - X['cont1'])\n",
    "    X['diff_10'] = abs(X['cont2'] - X['cont3'])\n",
    "    X['diff_11'] = abs(X['cont4'] - X['cont5'])\n",
    "    X['diff_12'] = abs(X['cont6'] -X['cont7'])\n",
    "    X['diff_13'] = abs(X['cont8'] -X['cont9'])\n",
    "    X['diff_14'] = abs(X['cont10'] -X['cont0'])\n",
    "    \n",
    "    # ratio a\n",
    "    X['rat_1'] = 1 / (X['cont0'] + X['cont1']**2)\n",
    "    X['rat_2'] = 1 / (X['cont2'] + X['cont3']**2)\n",
    "    X['rat_3'] = 1 / (X['cont4'] + X['cont5']**2)\n",
    "    X['rat_4'] = 1 / (X['cont6'] + X['cont7']**2)\n",
    "    X['rat_5'] = 1 / (X['cont8'] + X['cont9']**2)\n",
    "    X['rat_6'] = 1 / (X['cont10'] + X['cont7']**2)\n",
    "    \n",
    "    # pow\n",
    "    X['pow_0'] = X['cont0']**2\n",
    "    X['pow_1'] = X['cont1']**2\n",
    "    X['pow_2'] = X['cont2']**2\n",
    "    X['pow_3'] = X['cont3']**2\n",
    "    X['pow_4'] = X['cont4']**2\n",
    "    X['pow_5'] = X['cont5']**2\n",
    "    X['pow_6'] = X['cont6']**2\n",
    "    X['pow_7'] = X['cont7']**2\n",
    "    X['pow_8'] = X['cont8']**2\n",
    "    X['pow_9'] = X['cont9']**2\n",
    "    X['pow_10'] = X['cont10']**2\n",
    "    \n",
    "    # sqrt\n",
    "    X['sqrt_0'] = np.sqrt(X['cont0'])\n",
    "    X['sqrt_1'] = np.sqrt(X['cont1'])\n",
    "    X['sqrt_2'] = np.sqrt(X['cont2'])\n",
    "    X['sqrt_3'] = np.sqrt(X['cont3'])\n",
    "    X['sqrt_4'] = np.sqrt(X['cont4'])\n",
    "    X['sqrt_5'] = np.sqrt(X['cont5'])\n",
    "    X['sqrt_6'] = np.sqrt(X['cont6'])\n",
    "    X['sqrt_7'] = np.sqrt(X['cont7'])\n",
    "    X['sqrt_8'] = np.sqrt(X['cont8'])\n",
    "    X['sqrt_9'] = np.sqrt(X['cont9'])\n",
    "    X['sqrt_10'] = np.sqrt(X['cont10'])\n",
    "    \n",
    "    # polynomial a\n",
    "    X['poly_0'] = 1 + 5*X['cont0'] + 8*X['cont0']**2\n",
    "    X['poly_1'] = 1 + 5*X['cont1'] + 8*X['cont1']**2\n",
    "    X['poly_2'] = 1 + 5*X['cont2'] + 8*X['cont2']**2\n",
    "    X['poly_3'] = 1 + 5*X['cont3'] + 8*X['cont3']**2\n",
    "    X['poly_4'] = 1 + 5*X['cont4'] + 8*X['cont4']**2\n",
    "    X['poly_5'] = 1 + 5*X['cont5'] + 8*X['cont5']**2\n",
    "    X['poly_6'] = 1 + 5*X['cont6'] + 8*X['cont6']**2\n",
    "    X['poly_7'] = 1 + 5*X['cont7'] + 8*X['cont7']**2\n",
    "    X['poly_8'] = 1 + 5*X['cont8'] + 8*X['cont8']**2\n",
    "    X['poly_9'] = 1 + 5*X['cont9'] + 8*X['cont9']**2\n",
    "    X['poly_10'] =1 + 5*X['cont10'] + 8*X['cont10']**2\n",
    "    \n",
    "    \n",
    "    # polynomial b\n",
    "    X['poly_b_0'] = X['cont0'] / X['cont0']**2\n",
    "    X['poly_b_1'] = X['cont1'] / X['cont1']**2\n",
    "    X['poly_b_2'] = X['cont2'] / X['cont2']**2\n",
    "    X['poly_b_3'] = X['cont3'] / X['cont3']**2\n",
    "    X['poly_b_4'] = X['cont4'] / X['cont4']**2\n",
    "    X['poly_b_5'] = X['cont5'] / X['cont5']**2\n",
    "    X['poly_b_6'] = X['cont6'] / X['cont6']**2\n",
    "    X['poly_b_7'] = X['cont7'] / X['cont7']**2\n",
    "    X['poly_b_8'] = X['cont8'] / X['cont8']**2\n",
    "    X['poly_b_9'] = X['cont9'] / X['cont9']**2\n",
    "    X['poly_b_10'] = X['cont10'] / X['cont10']**2\n",
    "    \n",
    "    # polynomial 2\n",
    "    X['drat_1'] = 1 / (5*X['cont0'] + 8*X['cont1']**2)\n",
    "    X['drat_2'] = 1 / (5*X['cont2'] + 8*X['cont3']**2)\n",
    "    X['drat_3'] = 1 / (5*X['cont4'] + 8*X['cont5']**2)\n",
    "    X['drat_4'] = 1 / (5*X['cont6'] + 8*X['cont7']**2)\n",
    "    X['drat_5'] = 1 / (5*X['cont8'] + 8*X['cont9']**2)\n",
    "    X['drat_6'] = 1 / (5*X['cont10'] + 8*X['cont7']**2)\n",
    "    \n",
    "    return X"
   ]
  },
  {
   "cell_type": "code",
   "execution_count": 13,
   "metadata": {},
   "outputs": [],
   "source": [
    "train = wrangle(train)\n",
    "test = wrangle(test)"
   ]
  },
  {
   "cell_type": "code",
   "execution_count": 14,
   "metadata": {},
   "outputs": [],
   "source": [
    "for i in train.columns:\n",
    "    if train[i].isnull().sum() > 0:\n",
    "        train[i].fillna(train[i].mean(), inplace=True)"
   ]
  },
  {
   "cell_type": "code",
   "execution_count": 15,
   "metadata": {},
   "outputs": [],
   "source": [
    "for i in test.columns:\n",
    "    if test[i].isnull().sum() > 0:\n",
    "        test[i].fillna(test[i].mean(), inplace=True)"
   ]
  },
  {
   "cell_type": "code",
   "execution_count": null,
   "metadata": {},
   "outputs": [],
   "source": []
  },
  {
   "cell_type": "code",
   "execution_count": null,
   "metadata": {},
   "outputs": [],
   "source": []
  },
  {
   "cell_type": "code",
   "execution_count": 16,
   "metadata": {},
   "outputs": [],
   "source": [
    "target = train.pop('target')\n",
    "X_train, X_test, y_train, y_test = train_test_split(train, target, train_size=0.60)"
   ]
  },
  {
   "cell_type": "code",
   "execution_count": 17,
   "metadata": {},
   "outputs": [
    {
     "name": "stdout",
     "output_type": "stream",
     "text": [
      "0.87262\n"
     ]
    }
   ],
   "source": [
    "clf = RandomForestClassifier(n_estimators=200, max_depth=7, n_jobs=-1)\n",
    "clf.fit(X_train, y_train)\n",
    "y_pred = clf.predict_proba(X_test)[:, 1] # This grabs the positive class prediction\n",
    "score = roc_auc_score(y_test, y_pred)\n",
    "print(f'{score:0.5f}') # 0.87323 shows we're doing better than a dummy model 0.87233, 0.86822"
   ]
  },
  {
   "cell_type": "code",
   "execution_count": null,
   "metadata": {},
   "outputs": [],
   "source": []
  },
  {
   "cell_type": "code",
   "execution_count": null,
   "metadata": {},
   "outputs": [],
   "source": []
  }
 ],
 "metadata": {
  "kernelspec": {
   "display_name": "Python 3.7.0 64-bit ('trilogy': conda)",
   "language": "python",
   "name": "python37064bittrilogycondad756c12589d343f6b7f44d06d1553a1d"
  },
  "language_info": {
   "codemirror_mode": {
    "name": "ipython",
    "version": 3
   },
   "file_extension": ".py",
   "mimetype": "text/x-python",
   "name": "python",
   "nbconvert_exporter": "python",
   "pygments_lexer": "ipython3",
   "version": "3.7.0"
  }
 },
 "nbformat": 4,
 "nbformat_minor": 4
}
