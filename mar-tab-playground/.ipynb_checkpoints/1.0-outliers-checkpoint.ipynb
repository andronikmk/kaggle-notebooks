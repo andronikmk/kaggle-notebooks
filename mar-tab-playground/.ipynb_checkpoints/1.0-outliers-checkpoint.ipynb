{
 "cells": [
  {
   "cell_type": "code",
   "execution_count": 24,
   "metadata": {},
   "outputs": [],
   "source": [
    "# system stuff..\n",
    "from tqdm import tqdm\n",
    "import warnings\n",
    "warnings.filterwarnings('ignore')\n",
    "\n",
    "# data manipulation\n",
    "import numpy as np\n",
    "import pandas as pd\n",
    "\n",
    "# library for visulaization\n",
    "import matplotlib.pyplot as plt\n",
    "import seaborn as sns\n",
    "\n",
    "# sklearn\n",
    "from sklearn.preprocessing import LabelEncoder\n",
    "from sklearn.preprocessing import LabelEncoder\n",
    "from sklearn.metrics import roc_auc_score\n",
    "from sklearn.model_selection import train_test_split\n",
    "\n",
    "# models\n",
    "from sklearn.ensemble import RandomForestClassifier\n",
    "\n",
    "\n",
    "# stats\n",
    "from scipy import stats"
   ]
  },
  {
   "cell_type": "code",
   "execution_count": 25,
   "metadata": {},
   "outputs": [],
   "source": [
    "train = pd.read_csv(\"data/train.csv\",index_col='id')\n",
    "test = pd.read_csv(\"data/test.csv\",index_col='id')"
   ]
  },
  {
   "cell_type": "code",
   "execution_count": 26,
   "metadata": {},
   "outputs": [
    {
     "name": "stderr",
     "output_type": "stream",
     "text": [
      "100%|██████████| 31/31 [00:04<00:00,  7.33it/s]\n"
     ]
    }
   ],
   "source": [
    "# label encoder\n",
    "for c in tqdm(train.columns):\n",
    "    if train[c].dtype=='object': \n",
    "        lbl = LabelEncoder()\n",
    "        lbl.fit(list(train[c].values) + list(test[c].values))\n",
    "        train[c] = lbl.transform(train[c].values)\n",
    "        test[c] = lbl.transform(test[c].values)"
   ]
  },
  {
   "cell_type": "markdown",
   "metadata": {},
   "source": [
    "### Outliers\n",
    "> There is no rigid mathematical definition of what constitutes an outlier; determining whether or not an observation is an outlier is ultimately a subjective exercise.There are various methods of outlier detection. [[1]](https://en.wikipedia.org/wiki/Outlier)"
   ]
  },
  {
   "cell_type": "code",
   "execution_count": 27,
   "metadata": {},
   "outputs": [
    {
     "data": {
      "image/png": "[encoded data removed]",
      "text/plain": [
       "<Figure size 1440x864 with 12 Axes>"
      ]
     },
     "metadata": {
      "needs_background": "light"
     },
     "output_type": "display_data"
    }
   ],
   "source": [
    "# numerical values\n",
    "fig, ((ax0, ax1, ax2), (ax3, ax4, ax5), (ax6, ax7, ax8),(ax9, ax10, ax11)) = plt.subplots(ncols=3,nrows=4, sharey=True, figsize=(20,12))\n",
    "\n",
    "sns.boxplot(train['cont0'], ax=ax0);\n",
    "sns.boxplot(train['cont1'], ax=ax1);\n",
    "sns.boxplot(train['cont2'], ax=ax2);\n",
    "sns.boxplot(train['cont3'], ax=ax3);\n",
    "sns.boxplot(train['cont4'], ax=ax4);\n",
    "sns.boxplot(train['cont5'], ax=ax5);\n",
    "sns.boxplot(train['cont6'], ax=ax6);\n",
    "sns.boxplot(train['cont7'], ax=ax7);\n",
    "sns.boxplot(train['cont8'], ax=ax8);\n",
    "sns.boxplot(train['cont9'], ax=ax9);\n",
    "sns.boxplot(train['cont10'], ax=ax10);\n",
    "# sns.boxplot(train['cont10'], ax=ax11);\n",
    "\n",
    "plt.show();"
   ]
  },
  {
   "cell_type": "markdown",
   "metadata": {},
   "source": [
    "#### **Summary:**\n",
    "+ the outliers look to be located in `cont8`, `cont9`, and `cont10`"
   ]
  },
  {
   "cell_type": "code",
   "execution_count": 28,
   "metadata": {},
   "outputs": [
    {
     "name": "stdout",
     "output_type": "stream",
     "text": [
      "q1:0.35891, q3:0.35891, iqr:0.35891\n"
     ]
    }
   ],
   "source": [
    "# interquartile range for cont8 \n",
    "q1 = np.quantile(train['cont8'], .25)\n",
    "q3 = np.quantile(train['cont8'], .75)\n",
    "iqr = q3 - q1\n",
    "\n",
    "print('q1:{0:.5f}, q3:{0:.5f}, iqr:{0:.5f}'.format(q1, q3, iqr))"
   ]
  },
  {
   "cell_type": "code",
   "execution_count": 29,
   "metadata": {},
   "outputs": [
    {
     "name": "stdout",
     "output_type": "stream",
     "text": [
      "upper bound: 0.9934406504082627\n",
      "lower bound: -0.02180108745592385\n"
     ]
    }
   ],
   "source": [
    "lower_bound = q1 - 1.5*iqr\n",
    "upper_bound = q3 + 1.5*iqr\n",
    "print(\"upper bound:\", upper_bound)\n",
    "print(\"lower bound:\", lower_bound)"
   ]
  },
  {
   "cell_type": "code",
   "execution_count": 30,
   "metadata": {},
   "outputs": [],
   "source": [
    "outliers_train = []\n",
    "for i in train['cont8']:\n",
    "    if i > upper_bound or i < lower_bound:\n",
    "        outliers_train.append(i)"
   ]
  },
  {
   "cell_type": "code",
   "execution_count": 31,
   "metadata": {},
   "outputs": [],
   "source": [
    "outliers_test = []\n",
    "for i in test['cont8']:\n",
    "    if i > upper_bound or i < lower_bound:\n",
    "        outliers_test.append(i)"
   ]
  },
  {
   "cell_type": "code",
   "execution_count": 32,
   "metadata": {},
   "outputs": [],
   "source": [
    "median_train = np.mean(train['cont8'])\n",
    "median_test = np.mean(test['cont8'])"
   ]
  },
  {
   "cell_type": "code",
   "execution_count": 33,
   "metadata": {},
   "outputs": [],
   "source": [
    "train['cont8_out']  = train['cont8'].replace(outliers, median)\n",
    "test['cont8_out']  = test['cont8'].replace(outliers, median)"
   ]
  },
  {
   "cell_type": "code",
   "execution_count": 35,
   "metadata": {},
   "outputs": [],
   "source": [
    "train = train.drop(columns=['cont8'])\n",
    "test = test.drop(columns=['cont8'])"
   ]
  },
  {
   "cell_type": "code",
   "execution_count": 37,
   "metadata": {},
   "outputs": [],
   "source": [
    "target = train.pop('target')\n",
    "X_train, X_test, y_train, y_test = train_test_split(train, target, train_size=0.60)"
   ]
  },
  {
   "cell_type": "code",
   "execution_count": 39,
   "metadata": {},
   "outputs": [
    {
     "name": "stdout",
     "output_type": "stream",
     "text": [
      "0.87375\n"
     ]
    }
   ],
   "source": [
    "clf = RandomForestClassifier(n_estimators=200, max_depth=7, n_jobs=-1)\n",
    "clf.fit(X_train, y_train)\n",
    "y_pred = clf.predict_proba(X_test)[:, 1] # This grabs the positive class prediction\n",
    "score = roc_auc_score(y_test, y_pred)\n",
    "print(f'{score:0.5f}') "
   ]
  },
  {
   "cell_type": "markdown",
   "metadata": {},
   "source": [
    "**Conclusion:**\n",
    "+ didn't do anything.😔"
   ]
  },
  {
   "cell_type": "code",
   "execution_count": null,
   "metadata": {},
   "outputs": [],
   "source": []
  }
 ],
 "metadata": {
  "kernelspec": {
   "display_name": "Python 3.7.0 64-bit ('trilogy': conda)",
   "language": "python",
   "name": "python37064bittrilogycondad756c12589d343f6b7f44d06d1553a1d"
  },
  "language_info": {
   "codemirror_mode": {
    "name": "ipython",
    "version": 3
   },
   "file_extension": ".py",
   "mimetype": "text/x-python",
   "name": "python",
   "nbconvert_exporter": "python",
   "pygments_lexer": "ipython3",
   "version": "3.7.0"
  }
 },
 "nbformat": 4,
 "nbformat_minor": 4
}
